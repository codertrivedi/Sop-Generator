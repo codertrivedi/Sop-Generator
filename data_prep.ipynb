{
 "cells": [
  {
   "cell_type": "code",
   "execution_count": 8,
   "id": "9bbb0fe4-1ed1-4814-964c-4c2f20fc4eea",
   "metadata": {},
   "outputs": [],
   "source": [
    "# Import Libraries\n",
    "\n",
    "import os\n",
    "import pandas as pd\n",
    "from docx import Document"
   ]
  },
  {
   "cell_type": "code",
   "execution_count": 9,
   "id": "38ac885e-5033-441d-86f0-5f3873631223",
   "metadata": {},
   "outputs": [],
   "source": [
    "# Path to SOP and Questionnaire\n",
    "\n",
    "QUESTIONNAIRE_DIR = 'S:/datasets/Sop_dataset/Questionnaire/'\n",
    "SOP_DIR = 'S:/datasets/Sop_dataset/SOP/'\n",
    "OUTPUT_CSV = 'S:/datasets/Sop_dataset/output/df.csv'"
   ]
  },
  {
   "cell_type": "code",
   "execution_count": 10,
   "id": "a24aab9d-ca48-4dfb-8651-1f55116fdee2",
   "metadata": {},
   "outputs": [],
   "source": [
    "#Function to extract text from doc file\n",
    "\n",
    "def extract_text_from_docx(doc_path):\n",
    "    document = Document(doc_path)\n",
    "    return [para.text.strip() for para in document.paragraphs if para.text.strip()]"
   ]
  },
  {
   "cell_type": "code",
   "execution_count": 17,
   "id": "909bb285-d2d7-46fe-8d34-6d7941eb9471",
   "metadata": {},
   "outputs": [],
   "source": [
    "#Function to process a questionnaire and SOP pair\n",
    "\n",
    "def process_questionnaire_sop(questionnaire_path, sop_path):\n",
    "\n",
    "    input_text = \"\"\n",
    "    \n",
    "    questionnaire_text = extract_text_from_docx(questionnaire_path)\n",
    "    sop_text = extract_text_from_docx(sop_path)\n",
    "    \n",
    "    question = None\n",
    "    for line in questionnaire_text:\n",
    "        if line.startswith(\"Your answer:\"):\n",
    "            answer = line.replace(\"Your answer\", '').strip()\n",
    "            if question and answer:\n",
    "                input_text += f\"Question: {question} Answer: {answer}\"\n",
    "            question = None\n",
    "        elif line and not line.startswith(\"Your answer\"):\n",
    "            question = line.strip()\n",
    "            \n",
    "\n",
    "    output_text = \" \".join(sop_text)\n",
    "\n",
    "    return input_text.strip(), output_text.strip()\n"
   ]
  },
  {
   "cell_type": "code",
   "execution_count": 18,
   "id": "e60c61a9-72d8-4951-b91c-a04f872285d5",
   "metadata": {},
   "outputs": [],
   "source": [
    "data = []\n",
    "\n",
    "for filename in os.listdir(QUESTIONNAIRE_DIR):\n",
    "    if filename.endswith('.docx'):\n",
    "        questionnaire_path = os.path.join(QUESTIONNAIRE_DIR, filename)\n",
    "        sop_path = os.path.join(SOP_DIR, filename.replace(\"questionnaire\",\"sop\"))\n",
    "\n",
    "        \n",
    "\n",
    "        if os.path.exists(sop_path):\n",
    "            input_text, output_text = process_questionnaire_sop(questionnaire_path, sop_path)\n",
    "            # print(f\"Input Text: {input_text}\")  # Debugging\n",
    "            # print(f\"Output Text: {output_text}\")  # Debugging\n",
    "            data.append({\"input_text\": input_text, \"output_text\": output_text})\n",
    "\n",
    "\n",
    "# Convert to DataFrame and append/update the CSV\n",
    "df = pd.DataFrame(data)\n",
    "if os.path.exists(OUTPUT_CSV):\n",
    "    df.to_csv(OUTPUT_CSV, mode='a', header=True, index=False)\n",
    "else:\n",
    "    df.to_csv(OUTPUT_CSV, index=False)\n",
    "\n"
   ]
  },
  {
   "cell_type": "code",
   "execution_count": 19,
   "id": "05e375ad-4997-4bf3-b558-4bfd07e516dc",
   "metadata": {},
   "outputs": [
    {
     "data": {
      "text/html": [
       "<div>\n",
       "<style scoped>\n",
       "    .dataframe tbody tr th:only-of-type {\n",
       "        vertical-align: middle;\n",
       "    }\n",
       "\n",
       "    .dataframe tbody tr th {\n",
       "        vertical-align: top;\n",
       "    }\n",
       "\n",
       "    .dataframe thead th {\n",
       "        text-align: right;\n",
       "    }\n",
       "</style>\n",
       "<table border=\"1\" class=\"dataframe\">\n",
       "  <thead>\n",
       "    <tr style=\"text-align: right;\">\n",
       "      <th></th>\n",
       "      <th>input_text</th>\n",
       "      <th>output_text</th>\n",
       "    </tr>\n",
       "  </thead>\n",
       "  <tbody>\n",
       "    <tr>\n",
       "      <th>0</th>\n",
       "      <td>Question: Is there a related memorable school ...</td>\n",
       "      <td>Data is an extraordinary entity of the 21st Ce...</td>\n",
       "    </tr>\n",
       "  </tbody>\n",
       "</table>\n",
       "</div>"
      ],
      "text/plain": [
       "                                          input_text  \\\n",
       "0  Question: Is there a related memorable school ...   \n",
       "\n",
       "                                         output_text  \n",
       "0  Data is an extraordinary entity of the 21st Ce...  "
      ]
     },
     "execution_count": 19,
     "metadata": {},
     "output_type": "execute_result"
    }
   ],
   "source": [
    "df"
   ]
  },
  {
   "cell_type": "code",
   "execution_count": null,
   "id": "d44ed2f8-203b-4642-9df3-d380e27ab67d",
   "metadata": {},
   "outputs": [],
   "source": []
  },
  {
   "cell_type": "code",
   "execution_count": null,
   "id": "d6c51f93-8a55-4eec-b0df-ca6d9a703157",
   "metadata": {},
   "outputs": [],
   "source": []
  },
  {
   "cell_type": "code",
   "execution_count": null,
   "id": "262b51da-5a70-4b8a-ac35-147db2b0ba65",
   "metadata": {},
   "outputs": [],
   "source": []
  }
 ],
 "metadata": {
  "kernelspec": {
   "display_name": "Python 3 (ipykernel)",
   "language": "python",
   "name": "python3"
  },
  "language_info": {
   "codemirror_mode": {
    "name": "ipython",
    "version": 3
   },
   "file_extension": ".py",
   "mimetype": "text/x-python",
   "name": "python",
   "nbconvert_exporter": "python",
   "pygments_lexer": "ipython3",
   "version": "3.12.4"
  }
 },
 "nbformat": 4,
 "nbformat_minor": 5
}
