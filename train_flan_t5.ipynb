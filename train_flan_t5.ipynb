{
 "cells": [
  {
   "cell_type": "code",
   "execution_count": 1,
   "id": "c475c613-741b-4262-895b-5cc347f20789",
   "metadata": {},
   "outputs": [],
   "source": [
    "import pandas as pd\n",
    "from transformers import T5Tokenizer, T5ForConditionalGeneration, Trainer, TrainingArguments"
   ]
  },
  {
   "cell_type": "code",
   "execution_count": 2,
   "id": "9b02ae14-f387-498e-9f7b-a07d18260b61",
   "metadata": {},
   "outputs": [],
   "source": [
    "data = pd.read_csv(\"S:/datasets/Sop_dataset/output/df.csv\")\n",
    "inputs = data['input_text'].tolist()\n",
    "outputs = data['output_text'].tolist()"
   ]
  },
  {
   "cell_type": "code",
   "execution_count": 3,
   "id": "b104b529-f7ac-4a58-a964-e0afe0fc34c3",
   "metadata": {},
   "outputs": [
    {
     "name": "stderr",
     "output_type": "stream",
     "text": [
      "You are using the default legacy behaviour of the <class 'transformers.models.t5.tokenization_t5.T5Tokenizer'>. This is expected, and simply means that the `legacy` (previous) behavior will be used so nothing changes for you. If you want to use the new behaviour, set `legacy=False`. This should only be set if you understand what it means, and thoroughly read the reason why this was added as explained in https://github.com/huggingface/transformers/pull/24565\n"
     ]
    }
   ],
   "source": [
    "#Initialize tokenizer and model\n",
    "\n",
    "tokenizer = T5Tokenizer.from_pretrained(\"google/flan-t5-large\")\n",
    "model = T5ForConditionalGeneration.from_pretrained(\"google/flan-t5-large\")"
   ]
  },
  {
   "cell_type": "code",
   "execution_count": 4,
   "id": "be66eb5e-73ae-4277-9a49-d48b33dae8fd",
   "metadata": {},
   "outputs": [],
   "source": [
    "#Tokenized data\n",
    "input_encodings = tokenizer(inputs, padding = True, truncation = True, return_tensors = \"pt\")\n",
    "output_encodings = tokenizer(outputs, padding = True, truncation = True, return_tensors = \"pt\")"
   ]
  },
  {
   "cell_type": "code",
   "execution_count": 6,
   "id": "90c9058c-c084-4a69-9c09-72f709d2f1b2",
   "metadata": {},
   "outputs": [],
   "source": [
    "#dataset for training\n",
    "\n",
    "train_dataset = [{\"input_ids\": input_ids, \"labels\": labels} for input_ids, labels in zip(input_encodings['input_ids'], output_encodings['input_ids'])]"
   ]
  },
  {
   "cell_type": "code",
   "execution_count": 21,
   "id": "90e6ecf5-b6e0-4f8d-990d-6627eb28c31c",
   "metadata": {},
   "outputs": [],
   "source": [
    "training_args = TrainingArguments(\n",
    "    output_dir = \"./results\",\n",
    "    per_device_train_batch_size = 2,\n",
    "    num_train_epochs = 3,\n",
    "    \n",
    ")\n",
    "\n",
    "trainer = Trainer(\n",
    "    model = model,\n",
    "    args = training_args,\n",
    "    train_dataset = train_dataset,\n",
    ")"
   ]
  },
  {
   "cell_type": "code",
   "execution_count": 22,
   "id": "6857710b-a02b-4cf1-900d-619b03f221e6",
   "metadata": {},
   "outputs": [
    {
     "name": "stderr",
     "output_type": "stream",
     "text": [
      "Passing a tuple of `past_key_values` is deprecated and will be removed in Transformers v4.48.0. You should pass an instance of `EncoderDecoderCache` instead, e.g. `past_key_values=EncoderDecoderCache.from_legacy_cache(past_key_values)`.\n"
     ]
    },
    {
     "data": {
      "text/html": [
       "\n",
       "    <div>\n",
       "      \n",
       "      <progress value='3' max='3' style='width:300px; height:20px; vertical-align: middle;'></progress>\n",
       "      [3/3 03:54, Epoch 3/3]\n",
       "    </div>\n",
       "    <table border=\"1\" class=\"dataframe\">\n",
       "  <thead>\n",
       " <tr style=\"text-align: left;\">\n",
       "      <th>Step</th>\n",
       "      <th>Training Loss</th>\n",
       "    </tr>\n",
       "  </thead>\n",
       "  <tbody>\n",
       "  </tbody>\n",
       "</table><p>"
      ],
      "text/plain": [
       "<IPython.core.display.HTML object>"
      ]
     },
     "metadata": {},
     "output_type": "display_data"
    },
    {
     "data": {
      "text/plain": [
       "('flan_t5_finetuned\\\\tokenizer_config.json',\n",
       " 'flan_t5_finetuned\\\\special_tokens_map.json',\n",
       " 'flan_t5_finetuned\\\\spiece.model',\n",
       " 'flan_t5_finetuned\\\\added_tokens.json')"
      ]
     },
     "execution_count": 22,
     "metadata": {},
     "output_type": "execute_result"
    }
   ],
   "source": [
    "trainer.train()\n",
    "model.save_pretrained(\"flan_t5_finetuned\")\n",
    "tokenizer.save_pretrained(\"flan_t5_finetuned\")"
   ]
  },
  {
   "cell_type": "code",
   "execution_count": null,
   "id": "f1c51c36-b25f-48f5-822b-182399e73b18",
   "metadata": {},
   "outputs": [],
   "source": []
  }
 ],
 "metadata": {
  "kernelspec": {
   "display_name": "Python 3 (ipykernel)",
   "language": "python",
   "name": "python3"
  },
  "language_info": {
   "codemirror_mode": {
    "name": "ipython",
    "version": 3
   },
   "file_extension": ".py",
   "mimetype": "text/x-python",
   "name": "python",
   "nbconvert_exporter": "python",
   "pygments_lexer": "ipython3",
   "version": "3.12.4"
  }
 },
 "nbformat": 4,
 "nbformat_minor": 5
}
