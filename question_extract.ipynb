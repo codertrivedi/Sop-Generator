{
 "cells": [
  {
   "cell_type": "code",
   "execution_count": 10,
   "id": "e562e1b9-fc56-47c5-97ca-4fed22638f64",
   "metadata": {},
   "outputs": [],
   "source": [
    "from docx import Document"
   ]
  },
  {
   "cell_type": "code",
   "execution_count": 22,
   "id": "ffcb1ed4-adc3-42d6-9281-6d7f296075eb",
   "metadata": {},
   "outputs": [],
   "source": [
    "def extract_from_doc(docpath):\n",
    "    document = Document(docpath)\n",
    "    return [para.text.strip() for para in document.paragraphs if para.text.strip()]"
   ]
  },
  {
   "cell_type": "code",
   "execution_count": 80,
   "id": "24417584-98ef-447c-95e9-3cbb5a893386",
   "metadata": {},
   "outputs": [],
   "source": [
    "\n",
    "def extract_questions(questionnaire_path):\n",
    "    questionnaire_text = extract_from_doc(questionnaire_path)\n",
    "    questions = []\n",
    "    question = None\n",
    "\n",
    "    question = None\n",
    "    for line in questionnaire_text:\n",
    "        if line.startswith(\"Your answer:\"):\n",
    "            answer = line.replace(\"Your answer\", '').strip()\n",
    "            if question and answer:\n",
    "                questions.append(question)\n",
    "            question = None\n",
    "        elif line and not line.startswith(\"Your answer\"):\n",
    "            question = line.strip()\n",
    "\n",
    "    return questions\n",
    "\n"
   ]
  },
  {
   "cell_type": "code",
   "execution_count": 81,
   "id": "52915127-d305-4708-9048-b43afba4fde3",
   "metadata": {},
   "outputs": [],
   "source": [
    "questions = extract_questions(\"S:/datasets/Sop_dataset/Questionnaire/questionnaire_1.docx\")"
   ]
  },
  {
   "cell_type": "code",
   "execution_count": 82,
   "id": "99f96f19-0777-4058-b944-09b178c57d21",
   "metadata": {},
   "outputs": [
    {
     "data": {
      "text/plain": [
       "['Is there a related memorable school or college event that inspired you for your MS specialization (or career goal)?',\n",
       " 'During undergraduate studies, what relevant experiences motivated you to choose this major for MS?',\n",
       " 'Give 3-4 subject names from your bachelor’s degree related to your MS. How have these subjects prepared you for your intended Masters?',\n",
       " 'What projects did you take up in college? Please give detailed information on 1-2 projects related to your intended MS. What inspired you to choose this topic? Any challenges, learnings, achievements?',\n",
       " 'Optional - Did you work on a project beyond the prescribed curriculum? If yes, give details. (Project name, explanation, date or year of completion).',\n",
       " 'Where did you do your summer internship/ industrial training? List in detail your major technical learnings from it. How are these experiences related to yours Masters?',\n",
       " 'Optional - Have you written any research paper or technical paper or any other publication? Did you present/publish it anywhere? Why did you choose this topic and what was your learning? Please answer in not more than 2-3 lines.',\n",
       " 'Do you have any technical certifications such as CCNA, SUN JAVA, CFA, Six Sigma etc. (Give dates)',\n",
       " 'Did you work (full time) after your Bachelor’s degree? If yes, please give details about your work and performance. What motivated to take up this job',\n",
       " 'For which course and degree are you applying? Name 3-4 topics that you are most keen to study during MS, and explain why.',\n",
       " 'Do you want to pursue a PhD after your Master’s (Yes / No). If Yes, then what focus area and why? What do you hope to do with your PhD?',\n",
       " 'Has any incident from your childhood or family life (including any adversity) influenced you in a major way? Pls answer very briefly and to the point.',\n",
       " '14. What are your short-term and  long-term goals post graduation? Pls mention 2-3 top companies and the possible designations you are aspiring for.',\n",
       " '15. Optional - Anything else that you would like me to know? Please do not repeat information covered in the above questions.']"
      ]
     },
     "execution_count": 82,
     "metadata": {},
     "output_type": "execute_result"
    }
   ],
   "source": [
    "questions"
   ]
  },
  {
   "cell_type": "code",
   "execution_count": null,
   "id": "1be9ba4c-2d43-4da1-8055-42a044f9ca53",
   "metadata": {},
   "outputs": [],
   "source": []
  },
  {
   "cell_type": "code",
   "execution_count": null,
   "id": "2a5657bb-524b-40b5-a85a-04d93dc60152",
   "metadata": {},
   "outputs": [],
   "source": []
  }
 ],
 "metadata": {
  "kernelspec": {
   "display_name": "Python 3 (ipykernel)",
   "language": "python",
   "name": "python3"
  },
  "language_info": {
   "codemirror_mode": {
    "name": "ipython",
    "version": 3
   },
   "file_extension": ".py",
   "mimetype": "text/x-python",
   "name": "python",
   "nbconvert_exporter": "python",
   "pygments_lexer": "ipython3",
   "version": "3.12.4"
  }
 },
 "nbformat": 4,
 "nbformat_minor": 5
}
